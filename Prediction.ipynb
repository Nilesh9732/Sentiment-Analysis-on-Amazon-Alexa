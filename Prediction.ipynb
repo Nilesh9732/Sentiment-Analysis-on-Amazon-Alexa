{
 "cells": [
  {
   "cell_type": "markdown",
   "id": "b2a3fc0d-0efd-4771-8e69-15ab5ffbb9bc",
   "metadata": {},
   "source": [
    "# Prediction on Fresh Feedbacks"
   ]
  },
  {
   "cell_type": "markdown",
   "id": "2a123273-cbbf-49ff-889a-c7a4fc554f7f",
   "metadata": {},
   "source": [
    "## Importing necessary Libraries"
   ]
  },
  {
   "cell_type": "code",
   "execution_count": 1,
   "id": "f6b6c22e-2d5a-4872-a03d-cedee77471c9",
   "metadata": {},
   "outputs": [
    {
     "name": "stderr",
     "output_type": "stream",
     "text": [
      "[nltk_data] Downloading package stopwords to\n",
      "[nltk_data]     C:\\Users\\91626\\AppData\\Roaming\\nltk_data...\n",
      "[nltk_data]   Package stopwords is already up-to-date!\n"
     ]
    }
   ],
   "source": [
    "import pandas as pd\n",
    "import re\n",
    "from nltk.corpus import stopwords\n",
    "from nltk.stem.porter import PorterStemmer\n",
    "import nltk\n",
    "import pickle\n",
    "import xgboost as xgb\n",
    "nltk.download('stopwords')\n",
    "from nltk.corpus import stopwords\n",
    "STOPWORDS = set(stopwords.words('english'))"
   ]
  },
  {
   "cell_type": "code",
   "execution_count": 3,
   "id": "b210a93a-3571-451e-9840-2b49d93014cf",
   "metadata": {},
   "outputs": [],
   "source": [
    "# Load the new CSV file\n",
    "\n",
    "predict_data = pd.read_csv('SentimentBulk.csv')"
   ]
  },
  {
   "cell_type": "code",
   "execution_count": 4,
   "id": "35b5c4c1-0ef5-41be-9e4e-f6118e424aa7",
   "metadata": {},
   "outputs": [
    {
     "data": {
      "text/html": [
       "<div>\n",
       "<style scoped>\n",
       "    .dataframe tbody tr th:only-of-type {\n",
       "        vertical-align: middle;\n",
       "    }\n",
       "\n",
       "    .dataframe tbody tr th {\n",
       "        vertical-align: top;\n",
       "    }\n",
       "\n",
       "    .dataframe thead th {\n",
       "        text-align: right;\n",
       "    }\n",
       "</style>\n",
       "<table border=\"1\" class=\"dataframe\">\n",
       "  <thead>\n",
       "    <tr style=\"text-align: right;\">\n",
       "      <th></th>\n",
       "      <th>Sentence</th>\n",
       "    </tr>\n",
       "  </thead>\n",
       "  <tbody>\n",
       "    <tr>\n",
       "      <th>0</th>\n",
       "      <td>Love my Echo!</td>\n",
       "    </tr>\n",
       "    <tr>\n",
       "      <th>1</th>\n",
       "      <td>Loved it!</td>\n",
       "    </tr>\n",
       "    <tr>\n",
       "      <th>2</th>\n",
       "      <td>Sometimes while playing a game, you can answer...</td>\n",
       "    </tr>\n",
       "    <tr>\n",
       "      <th>3</th>\n",
       "      <td>I have had a lot of fun with this thing. My 4 ...</td>\n",
       "    </tr>\n",
       "    <tr>\n",
       "      <th>4</th>\n",
       "      <td>This item did not work. Certified refurbished ...</td>\n",
       "    </tr>\n",
       "  </tbody>\n",
       "</table>\n",
       "</div>"
      ],
      "text/plain": [
       "                                            Sentence\n",
       "0                                      Love my Echo!\n",
       "1                                          Loved it!\n",
       "2  Sometimes while playing a game, you can answer...\n",
       "3  I have had a lot of fun with this thing. My 4 ...\n",
       "4  This item did not work. Certified refurbished ..."
      ]
     },
     "execution_count": 4,
     "metadata": {},
     "output_type": "execute_result"
    }
   ],
   "source": [
    "predict_data.head()"
   ]
  },
  {
   "cell_type": "code",
   "execution_count": 5,
   "id": "83276e83-fdab-42c9-b211-3277bfc4f26e",
   "metadata": {},
   "outputs": [],
   "source": [
    "reviews = predict_data['Sentence']"
   ]
  },
  {
   "cell_type": "markdown",
   "id": "144b56ba-2aff-4209-b6d2-cd58fd2a03a3",
   "metadata": {},
   "source": [
    "## Preprocessing"
   ]
  },
  {
   "cell_type": "code",
   "execution_count": 17,
   "id": "db27352a-4b87-4316-ae94-394c93083c56",
   "metadata": {},
   "outputs": [],
   "source": [
    "# Preprocess the text data\n",
    "\n",
    "corpus = []\n",
    "ps = PorterStemmer()\n",
    "\n",
    "for review in reviews:\n",
    "    review = re.sub('[^a-zA-Z]', ' ', review)\n",
    "    review = review.lower()\n",
    "    review = review.split()\n",
    "    review = [ps.stem(word) for word in review if word not in set(stopwords.words('english'))]\n",
    "    review = ' '.join(review)\n",
    "    corpus.append(review)"
   ]
  },
  {
   "cell_type": "code",
   "execution_count": 18,
   "id": "9f5d37e8-c05c-4027-885b-45a73b6b5615",
   "metadata": {},
   "outputs": [],
   "source": [
    "# Load the CountVectorizer\n",
    "\n",
    "cv = pickle.load(open('Models/countVectorizer.pkl', 'rb'))"
   ]
  },
  {
   "cell_type": "code",
   "execution_count": 19,
   "id": "bd9de55e-f90a-4e4b-9e5f-81a4b5b9bfd3",
   "metadata": {},
   "outputs": [],
   "source": [
    "# Load the trained model\n",
    "\n",
    "model_xgb = pickle.load(open('Models/model_xgb.pkl', 'rb'))"
   ]
  },
  {
   "cell_type": "code",
   "execution_count": 20,
   "id": "2bcfddc6-faeb-4c24-85a5-24b7f6d50eae",
   "metadata": {},
   "outputs": [],
   "source": [
    "# Transform the text data\n",
    "\n",
    "X_predict = cv.transform(corpus).toarray()"
   ]
  },
  {
   "cell_type": "markdown",
   "id": "084cbf50-3597-49af-a819-050aad022341",
   "metadata": {},
   "source": [
    "## Predictions"
   ]
  },
  {
   "cell_type": "code",
   "execution_count": 22,
   "id": "30eaa6fb-1628-4faf-a291-8be7505f78cc",
   "metadata": {},
   "outputs": [
    {
     "name": "stdout",
     "output_type": "stream",
     "text": [
      "predictions: [1 1 1 1 0 0 0]\n"
     ]
    }
   ],
   "source": [
    "# Make predictions\n",
    "\n",
    "predictions = model_xgb.predict(X_predict)\n",
    "print(f'predictions:', predictions)"
   ]
  },
  {
   "cell_type": "code",
   "execution_count": 23,
   "id": "ed6d695e-da7a-41ba-aa78-2e61743a2232",
   "metadata": {},
   "outputs": [],
   "source": [
    "# Map predictions to 'positive' and 'negative'\n",
    "\n",
    "predict_data['predictions'] = predictions\n",
    "predict_data['predictions'] = predict_data['predictions'].map({1: 'positive', 0: 'negative'})"
   ]
  },
  {
   "cell_type": "code",
   "execution_count": 24,
   "id": "c108d43c-755a-46ce-93c0-ec2515fba297",
   "metadata": {},
   "outputs": [
    {
     "data": {
      "text/html": [
       "<div>\n",
       "<style scoped>\n",
       "    .dataframe tbody tr th:only-of-type {\n",
       "        vertical-align: middle;\n",
       "    }\n",
       "\n",
       "    .dataframe tbody tr th {\n",
       "        vertical-align: top;\n",
       "    }\n",
       "\n",
       "    .dataframe thead th {\n",
       "        text-align: right;\n",
       "    }\n",
       "</style>\n",
       "<table border=\"1\" class=\"dataframe\">\n",
       "  <thead>\n",
       "    <tr style=\"text-align: right;\">\n",
       "      <th></th>\n",
       "      <th>Sentence</th>\n",
       "      <th>predictions</th>\n",
       "    </tr>\n",
       "  </thead>\n",
       "  <tbody>\n",
       "    <tr>\n",
       "      <th>0</th>\n",
       "      <td>Love my Echo!</td>\n",
       "      <td>positive</td>\n",
       "    </tr>\n",
       "    <tr>\n",
       "      <th>1</th>\n",
       "      <td>Loved it!</td>\n",
       "      <td>positive</td>\n",
       "    </tr>\n",
       "    <tr>\n",
       "      <th>2</th>\n",
       "      <td>Sometimes while playing a game, you can answer...</td>\n",
       "      <td>positive</td>\n",
       "    </tr>\n",
       "    <tr>\n",
       "      <th>3</th>\n",
       "      <td>I have had a lot of fun with this thing. My 4 ...</td>\n",
       "      <td>positive</td>\n",
       "    </tr>\n",
       "    <tr>\n",
       "      <th>4</th>\n",
       "      <td>This item did not work. Certified refurbished ...</td>\n",
       "      <td>negative</td>\n",
       "    </tr>\n",
       "  </tbody>\n",
       "</table>\n",
       "</div>"
      ],
      "text/plain": [
       "                                            Sentence predictions\n",
       "0                                      Love my Echo!    positive\n",
       "1                                          Loved it!    positive\n",
       "2  Sometimes while playing a game, you can answer...    positive\n",
       "3  I have had a lot of fun with this thing. My 4 ...    positive\n",
       "4  This item did not work. Certified refurbished ...    negative"
      ]
     },
     "execution_count": 24,
     "metadata": {},
     "output_type": "execute_result"
    }
   ],
   "source": [
    "predict_data.head()"
   ]
  },
  {
   "cell_type": "code",
   "execution_count": 26,
   "id": "0d5feb63-b799-4989-93c4-b8ccb69445fe",
   "metadata": {},
   "outputs": [],
   "source": [
    "# Save the DataFrame to a new CSV file\n",
    "\n",
    "predict_data.to_csv('predicted_reviews.csv', index=False)"
   ]
  }
 ],
 "metadata": {
  "kernelspec": {
   "display_name": "Python 3 (ipykernel)",
   "language": "python",
   "name": "python3"
  },
  "language_info": {
   "codemirror_mode": {
    "name": "ipython",
    "version": 3
   },
   "file_extension": ".py",
   "mimetype": "text/x-python",
   "name": "python",
   "nbconvert_exporter": "python",
   "pygments_lexer": "ipython3",
   "version": "3.12.3"
  }
 },
 "nbformat": 4,
 "nbformat_minor": 5
}
